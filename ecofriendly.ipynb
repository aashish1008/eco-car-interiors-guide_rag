{
 "cells": [
  {
   "cell_type": "markdown",
   "metadata": {},
   "source": [
    "## Loading the libraries"
   ]
  },
  {
   "cell_type": "code",
   "execution_count": 1,
   "metadata": {},
   "outputs": [],
   "source": [
    "import os\n",
    "from dotenv import load_dotenv\n",
    "\n",
    "from langchain_community.document_loaders import PyPDFLoader\n",
    "from langchain.text_splitter import RecursiveCharacterTextSplitter\n",
    "from langchain_cohere import CohereEmbeddings\n",
    "from langchain_community.vectorstores import FAISS\n",
    "from langchain_groq import ChatGroq\n",
    "from langchain_core.prompts import ChatPromptTemplate\n",
    "from langchain.chains.combine_documents import create_stuff_documents_chain\n",
    "from langchain.chains import create_retrieval_chain\n"
   ]
  },
  {
   "cell_type": "markdown",
   "metadata": {},
   "source": [
    "## Loading API Keys"
   ]
  },
  {
   "cell_type": "code",
   "execution_count": 2,
   "metadata": {},
   "outputs": [
    {
     "data": {
      "text/plain": [
       "True"
      ]
     },
     "execution_count": 2,
     "metadata": {},
     "output_type": "execute_result"
    }
   ],
   "source": [
    "load_dotenv()"
   ]
  },
  {
   "cell_type": "code",
   "execution_count": 3,
   "metadata": {},
   "outputs": [],
   "source": [
    "## load the Cohere API key\n",
    "os.environ['COHERE_API_KEY']=os.getenv(\"COHERE_API_KEY\")\n",
    "\n",
    "## load the Groq API key\n",
    "groq_api_key=os.environ['GROQ_API_KEY']"
   ]
  },
  {
   "cell_type": "markdown",
   "metadata": {},
   "source": [
    "## Data Ingestion"
   ]
  },
  {
   "cell_type": "code",
   "execution_count": 4,
   "metadata": {},
   "outputs": [],
   "source": [
    "loader = PyPDFLoader('ecofriendly_dataset_updated.pdf')\n",
    "documents = loader.load()"
   ]
  },
  {
   "cell_type": "code",
   "execution_count": 5,
   "metadata": {},
   "outputs": [
    {
     "data": {
      "text/plain": [
       "[Document(metadata={'source': 'ecofriendly_dataset_updated.pdf', 'page': 0}, page_content='Engine (Internal Combustion)  \\nEngine Block  \\n• Material : Recycled aluminum, bio -based plastics for engine covers.  \\n• Eco-Friendliness : Recycled aluminum reduces waste and conserves natural resources. \\nBio-based plastics are biodegradable and reduce dependency on petroleum -based plastics.  \\nCylinder Head  \\n• Material : Recycled aluminum, ceramic coatings for heat management.  \\n• Eco-Friendliness : Recycled aluminum conserves resources. Ceramic coatings extend the \\nlifespan of components, reducing waste.  \\nPistons  \\n• Material : Lightweight aluminum alloys, ceramic coatings for heat resistance.  \\n• Eco-Friendliness : Lightweight materials improve fuel efficiency, reducing emissions.  \\nConnecting Rods  \\n• Material : High -strength steel alloys with reduced carbon footprint, or lightweight \\ntitanium alloys.  \\n• Eco-Friendliness : Reduced carbon footprint in production processes, titanium alloys \\nprovide durability with less material usage.  \\nCrankshaft  \\n• Material : Forged steel with optimized design for weight reduction.  \\n• Eco-Friendliness : Weight reduction improves fuel efficiency, reducing emissions.  \\nTransmission  \\nGear Housing  \\n• Material : Recycled aluminum or magnesium alloys.  \\n• Eco-Friendliness : Recycled materials reduce waste and resource extraction.  \\nGears  \\n• Material : Advanced high -strength steel alloys for durability and weight reduction.  \\n• Eco-Friendliness : Durability reduces the frequency of replacements, lowering overall \\nmaterial usage.  '),\n",
       " Document(metadata={'source': 'ecofriendly_dataset_updated.pdf', 'page': 1}, page_content='Clutch Plates  \\n• Material : Organic materials with lower environmental impact, or ceramic -based friction \\nmaterials.  \\n• Eco-Friendliness : Organic materials reduce environmental impact; ceramic materials \\nhave longer lifespans, reducing waste.  \\nOrganic Clutch Plates  \\n• Composition : Primarily made from organic materials like cork, jute, and resins.  \\n• Advantages : Good initial  grip, comfortable pedal feel, and relatively low cost.  \\n• Disadvantages : Lower heat tolerance, potential for premature wear, and reduced \\ndurability compared to ceramic options.  \\n• Eco-Friendliness : Organic materials are biodegradable and reduce environmental \\nimpact.  \\nCeramic Clutch Plates  \\n• Composition : Made from ceramic materials, often reinforced with metal fibers.  \\n• Advantages : Exceptional heat resistance, improved durability, consistent friction \\ncoefficient, and longer lifespan.  \\n• Disadvantages : Harsher pedal feel, potential for increased noise, and typically higher \\ncost. \\n• Eco-Friendliness : Longer lifespan reduces the need for frequent replacements, lowering \\nmaterial usage.  \\nChoosing the Right Material   \\nThe optimal choice between organic and ceramic clutch plates depends on various factors:  \\n• Vehicle Type and Usage:  Performance cars often benefit  from the durability and heat \\nresistance of ceramic clutches, while everyday vehicles might find organic clutches \\nsufficient.  \\n• Driver Preference:  Some drivers prefer the softer pedal feel of organic clutches, while \\nothers value the precision and durability of ceramic options.  \\n• Cost Considerations:  Ceramic clutches generally have a higher initial cost but can offer \\nlong-term savings due to their extended lifespan.  \\n• Eco-Friendliness : Ceramic clutches offer long -term savings due to extended lifespan, \\nwhile organic clutches are made from renewable resources.  \\nDrivetrain  \\n• Axles:  High -strength steel alloys with optimized design for weight reduction.  \\n• Differentials:  Lightweight aluminum or magnesium alloys.  \\nDriveshaft  '),\n",
       " Document(metadata={'source': 'ecofriendly_dataset_updated.pdf', 'page': 2}, page_content='• Material : Lightweight composites like carbon fiber reinforced plastic (CFRP) or glass \\nfiber reinforced plastic (GFRP).  \\n• Eco-Friendliness : Reduced weight improves fuel efficiency. Composites have high \\ndurability, reducing the need for replacements.  \\nAxles  \\n• Material : High -strength steel alloys with optimized design for weight reduction.  \\n• Eco-Friendliness : Durable materials reduce the frequency of replacements, weight \\noptimization improves fuel efficiency.  \\nDifferentials  \\n• Material : Lightweight aluminum or magnesium alloys.  \\n• Eco-Friendliness : Lightweight materials improve fuel efficiency, reducing emissions.  \\nElectric Vehicles  \\nElectric Motor  \\n• Material : Permanent magnets made from rare earth elements (although efforts are \\nunderway to reduce reliance on these), copper windings, and lightweight housing \\nmaterials.  \\n• Eco-Friendliness : Reduced reliance on rare earth elements, recycled copper reduces \\nenvironmental impact.  \\nBattery  \\n• Material : Lithium -ion batteries with recycled components and improved energy density.  \\n• Eco-Friendliness : Recycled components reduce waste, improved energy density \\nenhances efficiency.  \\nPower Electronics  \\n• Material : Silicon carbide or gallium nitride -based components for higher efficiency.  \\n• Eco-Friendliness : Higher efficiency reduces energy consumption.  \\nCommon Ceramic Materials  \\nAlumina (Al2O3)  \\n• Properties : Provides high strength, hardness, and thermal conductivity.  \\n• Eco-Friendliness : Durable materials reduce the frequency of replacements.  '),\n",
       " Document(metadata={'source': 'ecofriendly_dataset_updated.pdf', 'page': 3}, page_content='Zirconia (ZrO2)  \\n• Properties : Offers excellent thermal shock resistance and fracture toughness.  \\n• Eco-Friendliness : Enhances the durability of components, reducing waste.  \\nSilicon Carbide (SiC)  \\n• Properties : Known for its high thermal conductivity and wear resistance.  \\n• Eco-Friendliness : Durable materials reduce the frequency of replacements.  \\n \\n ')]"
      ]
     },
     "execution_count": 5,
     "metadata": {},
     "output_type": "execute_result"
    }
   ],
   "source": [
    "documents"
   ]
  },
  {
   "cell_type": "markdown",
   "metadata": {},
   "source": [
    "## Chunking the documents"
   ]
  },
  {
   "cell_type": "code",
   "execution_count": 6,
   "metadata": {},
   "outputs": [],
   "source": [
    "text_splitter = RecursiveCharacterTextSplitter(chunk_size=800, chunk_overlap=200)\n",
    "final_document = text_splitter.split_documents(documents)"
   ]
  },
  {
   "cell_type": "code",
   "execution_count": 7,
   "metadata": {},
   "outputs": [
    {
     "data": {
      "text/plain": [
       "[Document(metadata={'source': 'ecofriendly_dataset_updated.pdf', 'page': 0}, page_content='Engine (Internal Combustion)  \\nEngine Block  \\n• Material : Recycled aluminum, bio -based plastics for engine covers.  \\n• Eco-Friendliness : Recycled aluminum reduces waste and conserves natural resources. \\nBio-based plastics are biodegradable and reduce dependency on petroleum -based plastics.  \\nCylinder Head  \\n• Material : Recycled aluminum, ceramic coatings for heat management.  \\n• Eco-Friendliness : Recycled aluminum conserves resources. Ceramic coatings extend the \\nlifespan of components, reducing waste.  \\nPistons  \\n• Material : Lightweight aluminum alloys, ceramic coatings for heat resistance.  \\n• Eco-Friendliness : Lightweight materials improve fuel efficiency, reducing emissions.  \\nConnecting Rods'),\n",
       " Document(metadata={'source': 'ecofriendly_dataset_updated.pdf', 'page': 0}, page_content='Pistons  \\n• Material : Lightweight aluminum alloys, ceramic coatings for heat resistance.  \\n• Eco-Friendliness : Lightweight materials improve fuel efficiency, reducing emissions.  \\nConnecting Rods  \\n• Material : High -strength steel alloys with reduced carbon footprint, or lightweight \\ntitanium alloys.  \\n• Eco-Friendliness : Reduced carbon footprint in production processes, titanium alloys \\nprovide durability with less material usage.  \\nCrankshaft  \\n• Material : Forged steel with optimized design for weight reduction.  \\n• Eco-Friendliness : Weight reduction improves fuel efficiency, reducing emissions.  \\nTransmission  \\nGear Housing  \\n• Material : Recycled aluminum or magnesium alloys.  \\n• Eco-Friendliness : Recycled materials reduce waste and resource extraction.  \\nGears'),\n",
       " Document(metadata={'source': 'ecofriendly_dataset_updated.pdf', 'page': 0}, page_content='Transmission  \\nGear Housing  \\n• Material : Recycled aluminum or magnesium alloys.  \\n• Eco-Friendliness : Recycled materials reduce waste and resource extraction.  \\nGears  \\n• Material : Advanced high -strength steel alloys for durability and weight reduction.  \\n• Eco-Friendliness : Durability reduces the frequency of replacements, lowering overall \\nmaterial usage.'),\n",
       " Document(metadata={'source': 'ecofriendly_dataset_updated.pdf', 'page': 1}, page_content='Clutch Plates  \\n• Material : Organic materials with lower environmental impact, or ceramic -based friction \\nmaterials.  \\n• Eco-Friendliness : Organic materials reduce environmental impact; ceramic materials \\nhave longer lifespans, reducing waste.  \\nOrganic Clutch Plates  \\n• Composition : Primarily made from organic materials like cork, jute, and resins.  \\n• Advantages : Good initial  grip, comfortable pedal feel, and relatively low cost.  \\n• Disadvantages : Lower heat tolerance, potential for premature wear, and reduced \\ndurability compared to ceramic options.  \\n• Eco-Friendliness : Organic materials are biodegradable and reduce environmental \\nimpact.  \\nCeramic Clutch Plates  \\n• Composition : Made from ceramic materials, often reinforced with metal fibers.'),\n",
       " Document(metadata={'source': 'ecofriendly_dataset_updated.pdf', 'page': 1}, page_content='• Eco-Friendliness : Organic materials are biodegradable and reduce environmental \\nimpact.  \\nCeramic Clutch Plates  \\n• Composition : Made from ceramic materials, often reinforced with metal fibers.  \\n• Advantages : Exceptional heat resistance, improved durability, consistent friction \\ncoefficient, and longer lifespan.  \\n• Disadvantages : Harsher pedal feel, potential for increased noise, and typically higher \\ncost. \\n• Eco-Friendliness : Longer lifespan reduces the need for frequent replacements, lowering \\nmaterial usage.  \\nChoosing the Right Material   \\nThe optimal choice between organic and ceramic clutch plates depends on various factors:  \\n• Vehicle Type and Usage:  Performance cars often benefit  from the durability and heat'),\n",
       " Document(metadata={'source': 'ecofriendly_dataset_updated.pdf', 'page': 1}, page_content='The optimal choice between organic and ceramic clutch plates depends on various factors:  \\n• Vehicle Type and Usage:  Performance cars often benefit  from the durability and heat \\nresistance of ceramic clutches, while everyday vehicles might find organic clutches \\nsufficient.  \\n• Driver Preference:  Some drivers prefer the softer pedal feel of organic clutches, while \\nothers value the precision and durability of ceramic options.  \\n• Cost Considerations:  Ceramic clutches generally have a higher initial cost but can offer \\nlong-term savings due to their extended lifespan.  \\n• Eco-Friendliness : Ceramic clutches offer long -term savings due to extended lifespan, \\nwhile organic clutches are made from renewable resources.  \\nDrivetrain'),\n",
       " Document(metadata={'source': 'ecofriendly_dataset_updated.pdf', 'page': 1}, page_content='• Eco-Friendliness : Ceramic clutches offer long -term savings due to extended lifespan, \\nwhile organic clutches are made from renewable resources.  \\nDrivetrain  \\n• Axles:  High -strength steel alloys with optimized design for weight reduction.  \\n• Differentials:  Lightweight aluminum or magnesium alloys.  \\nDriveshaft'),\n",
       " Document(metadata={'source': 'ecofriendly_dataset_updated.pdf', 'page': 2}, page_content='• Material : Lightweight composites like carbon fiber reinforced plastic (CFRP) or glass \\nfiber reinforced plastic (GFRP).  \\n• Eco-Friendliness : Reduced weight improves fuel efficiency. Composites have high \\ndurability, reducing the need for replacements.  \\nAxles  \\n• Material : High -strength steel alloys with optimized design for weight reduction.  \\n• Eco-Friendliness : Durable materials reduce the frequency of replacements, weight \\noptimization improves fuel efficiency.  \\nDifferentials  \\n• Material : Lightweight aluminum or magnesium alloys.  \\n• Eco-Friendliness : Lightweight materials improve fuel efficiency, reducing emissions.  \\nElectric Vehicles  \\nElectric Motor  \\n• Material : Permanent magnets made from rare earth elements (although efforts are'),\n",
       " Document(metadata={'source': 'ecofriendly_dataset_updated.pdf', 'page': 2}, page_content='Electric Vehicles  \\nElectric Motor  \\n• Material : Permanent magnets made from rare earth elements (although efforts are \\nunderway to reduce reliance on these), copper windings, and lightweight housing \\nmaterials.  \\n• Eco-Friendliness : Reduced reliance on rare earth elements, recycled copper reduces \\nenvironmental impact.  \\nBattery  \\n• Material : Lithium -ion batteries with recycled components and improved energy density.  \\n• Eco-Friendliness : Recycled components reduce waste, improved energy density \\nenhances efficiency.  \\nPower Electronics  \\n• Material : Silicon carbide or gallium nitride -based components for higher efficiency.  \\n• Eco-Friendliness : Higher efficiency reduces energy consumption.  \\nCommon Ceramic Materials  \\nAlumina (Al2O3)'),\n",
       " Document(metadata={'source': 'ecofriendly_dataset_updated.pdf', 'page': 2}, page_content='• Eco-Friendliness : Higher efficiency reduces energy consumption.  \\nCommon Ceramic Materials  \\nAlumina (Al2O3)  \\n• Properties : Provides high strength, hardness, and thermal conductivity.  \\n• Eco-Friendliness : Durable materials reduce the frequency of replacements.'),\n",
       " Document(metadata={'source': 'ecofriendly_dataset_updated.pdf', 'page': 3}, page_content='Zirconia (ZrO2)  \\n• Properties : Offers excellent thermal shock resistance and fracture toughness.  \\n• Eco-Friendliness : Enhances the durability of components, reducing waste.  \\nSilicon Carbide (SiC)  \\n• Properties : Known for its high thermal conductivity and wear resistance.  \\n• Eco-Friendliness : Durable materials reduce the frequency of replacements.')]"
      ]
     },
     "execution_count": 7,
     "metadata": {},
     "output_type": "execute_result"
    }
   ],
   "source": [
    "final_document"
   ]
  },
  {
   "cell_type": "markdown",
   "metadata": {},
   "source": [
    "## Vector Embeddings"
   ]
  },
  {
   "cell_type": "code",
   "execution_count": 9,
   "metadata": {},
   "outputs": [],
   "source": [
    "vector_db = FAISS.from_documents(final_document, CohereEmbeddings())"
   ]
  },
  {
   "cell_type": "code",
   "execution_count": 34,
   "metadata": {},
   "outputs": [],
   "source": [
    "# Designing the prompt template\n",
    "prompt = ChatPromptTemplate.from_template(\"\"\"\n",
    "You are a helpful assistant.\n",
    "Answer the following question based only on the provided context.\n",
    "Think step by step before providing a detailed answer but don't mention \"Based on the context\". \n",
    "I will tip you $1000 if the user finds the answer helpful. \n",
    "<context>\n",
    "{context}\n",
    "</context>\n",
    "Question: {input}\"\"\")"
   ]
  },
  {
   "cell_type": "code",
   "execution_count": 35,
   "metadata": {},
   "outputs": [],
   "source": [
    "# Loading the llm models\n",
    "llm = ChatGroq(groq_api_key = groq_api_key,\n",
    "               model_name = \"mixtral-8x7b-32768\"\n",
    "               )"
   ]
  },
  {
   "cell_type": "markdown",
   "metadata": {},
   "source": [
    "## Chain and Retrieval"
   ]
  },
  {
   "cell_type": "code",
   "execution_count": 36,
   "metadata": {},
   "outputs": [],
   "source": [
    "document_chain = create_stuff_documents_chain(llm, prompt)"
   ]
  },
  {
   "cell_type": "code",
   "execution_count": 37,
   "metadata": {},
   "outputs": [],
   "source": [
    "retriever = vector_db.as_retriever()\n",
    "retrieval_chain = create_retrieval_chain(retriever, document_chain)"
   ]
  },
  {
   "cell_type": "markdown",
   "metadata": {},
   "source": [
    "## Query that can be asked !!!"
   ]
  },
  {
   "cell_type": "markdown",
   "metadata": {},
   "source": [
    "**Query**\n",
    " - Recommend a sustainable material for the engine block of an internal combustion engine that prioritizes reducing waste and conserving natural resources.\n",
    " - What material should be used for the cylinder head to enhance heat management and conserve resources?\n",
    " - Suggest an eco-friendly material for pistons that improves fuel efficiency and reduces emissions.\n",
    " -  Identify a sustainable material for connecting rods with a focus on reducing the carbon footprint during production.\n",
    " - Which material would be best for the crankshaft to optimize weight reduction and improve fuel efficiency?\n",
    " - Recommend an environmentally friendly material for gear housing in the transmission system.\n",
    " - What advanced materials should be used for gears to ensure durability and weight reduction?\n",
    " - Suggest organic materials for clutch plates that have a lower environmental impact.\n",
    " -  Recommend a material for the driveshaft that is lightweight and improves fuel efficiency.\n",
    " - What materials should be used for the electric motor to reduce environmental impact while maintaining performance?\n",
    " - Identify an eco-friendly battery material with recycled components for electric vehicles.\n",
    " - Suggest materials for power electronics that enhance efficiency and reduce energy consumption.\n",
    " - What ceramic material would be suitable for components requiring high thermal conductivity and wear resistance?\n",
    " - Recommend a ceramic material with excellent thermal shock resistance and fracture toughness.\n",
    " - Suggest a material for axles that optimizes weight reduction and improves fuel efficiency."
   ]
  },
  {
   "cell_type": "markdown",
   "metadata": {},
   "source": [
    "## Generating Responses"
   ]
  },
  {
   "cell_type": "code",
   "execution_count": 38,
   "metadata": {},
   "outputs": [
    {
     "name": "stdout",
     "output_type": "stream",
     "text": [
      "To determine the suitable ceramic material for components requiring high thermal conductivity and wear resistance, let's consider the properties of each material mentioned in the context:\n",
      "\n",
      "1. Alumina (Al2O3)\n",
      "   - High strength\n",
      "   - High hardness\n",
      "   - High thermal conductivity\n",
      "\n",
      "2. Zirconia (ZrO2)\n",
      "   - Excellent thermal shock resistance\n",
      "   - High fracture toughness\n",
      "\n",
      "3. Silicon Carbide (SiC)\n",
      "   - Known for its high thermal conductivity\n",
      "   - High wear resistance\n",
      "\n",
      "Given these properties, Silicon Carbide (SiC) appears to be the most suitable ceramic material for components requiring high thermal conductivity and wear resistance. It is specifically known for these properties, making it an ideal choice for such applications.\n"
     ]
    }
   ],
   "source": [
    "query = \"What ceramic material would be suitable for components requiring high thermal conductivity and wear resistance?\"\n",
    "response = retrieval_chain.invoke({\n",
    "    \"input\" : query\n",
    "})\n",
    "print(response['answer'])"
   ]
  },
  {
   "cell_type": "code",
   "execution_count": 39,
   "metadata": {},
   "outputs": [
    {
     "name": "stdout",
     "output_type": "stream",
     "text": [
      "For pistons, an eco-friendly material that improves fuel efficiency and reduces emissions is lightweight aluminum alloys. This material is already used in piston manufacturing, as stated in the context, and it contributes to enhanced fuel efficiency due to its lighter weight. This reduced weight requires less energy to move, which in turn decreases emissions from the engine.\n"
     ]
    }
   ],
   "source": [
    "query_1 = \"Suggest an eco-friendly material for pistons that improves fuel efficiency and reduces emissions.\"\n",
    "response1 = retrieval_chain.invoke({\n",
    "    \"input\" : query_1\n",
    "})\n",
    "print(response1['answer'])"
   ]
  },
  {
   "cell_type": "code",
   "execution_count": 40,
   "metadata": {},
   "outputs": [
    {
     "name": "stdout",
     "output_type": "stream",
     "text": [
      "For an environmentally friendly material for the gear housing in the transmission system, recycled aluminum or magnesium alloys would be ideal. These materials reduce waste and resource extraction, contributing to a more sustainable and eco-friendly production process.\n"
     ]
    }
   ],
   "source": [
    "query_2 = \"Recommend an environmentally friendly material for gear housing in the transmission system.\"\n",
    "response2 = retrieval_chain.invoke({\n",
    "    \"input\" : query_2\n",
    "})\n",
    "print(response2['answer'])"
   ]
  },
  {
   "cell_type": "code",
   "execution_count": 41,
   "metadata": {},
   "outputs": [
    {
     "name": "stdout",
     "output_type": "stream",
     "text": [
      "The battery material for electric vehicles, as mentioned in the context, is lithium-ion batteries. These batteries incorporate recycled components which contribute to their eco-friendliness. The recycling of components reduces waste and enhances the sustainability of electric vehicle production.\n"
     ]
    }
   ],
   "source": [
    "query_3 = \"Identify an eco-friendly battery material with recycled components for electric vehicles.\"\n",
    "response3 = retrieval_chain.invoke({\n",
    "    \"input\" : query_3\n",
    "})\n",
    "print(response3['answer'])"
   ]
  },
  {
   "cell_type": "code",
   "execution_count": 42,
   "metadata": {},
   "outputs": [
    {
     "name": "stdout",
     "output_type": "stream",
     "text": [
      "For the engine block of an internal combustion engine, recycled aluminum would be a sustainable material that prioritizes reducing waste and conserving natural resources. This is because recycled aluminum reduces waste by reusing materials that would otherwise be discarded, and it conserves natural resources by decreasing the need for mining and processing new aluminum. Additionally, aluminum is a lightweight material, which can contribute to improved fuel efficiency in vehicles, further reducing their environmental impact.\n"
     ]
    }
   ],
   "source": [
    "query_4 = \"Recommend a sustainable material for the engine block of an internal combustion engine that prioritizes reducing waste and conserving natural resources.\"\n",
    "response4 = retrieval_chain.invoke({\n",
    "    \"input\" : query_4\n",
    "})\n",
    "print(response4['answer'])"
   ]
  },
  {
   "cell_type": "code",
   "execution_count": 44,
   "metadata": {},
   "outputs": [
    {
     "name": "stdout",
     "output_type": "stream",
     "text": [
      "The material for axles that optimizes weight reduction and improves fuel efficiency is high-strength steel alloys with an optimized design for weight reduction. This is based on the provided context, as it mentions high-strength steel alloys are used for axles in both traditional and electric vehicles, and this material choice contributes to weight reduction and improved fuel efficiency due to the optimized design.\n"
     ]
    }
   ],
   "source": [
    "query_5 = \"Suggest a material for axles that optimizes weight reduction and improves fuel efficiency.\"\n",
    "response5 = retrieval_chain.invoke({\n",
    "    \"input\" : query_5\n",
    "})\n",
    "print(response5['answer'])"
   ]
  },
  {
   "cell_type": "markdown",
   "metadata": {},
   "source": [
    "<h2 align=\"center\">Thank You !!! </h2>"
   ]
  }
 ],
 "metadata": {
  "kernelspec": {
   "display_name": ".venv",
   "language": "python",
   "name": "python3"
  },
  "language_info": {
   "codemirror_mode": {
    "name": "ipython",
    "version": 3
   },
   "file_extension": ".py",
   "mimetype": "text/x-python",
   "name": "python",
   "nbconvert_exporter": "python",
   "pygments_lexer": "ipython3",
   "version": "3.10.11"
  }
 },
 "nbformat": 4,
 "nbformat_minor": 2
}
